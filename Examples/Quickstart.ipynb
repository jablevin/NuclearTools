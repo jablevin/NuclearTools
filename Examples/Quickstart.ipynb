{
 "cells": [
  {
   "cell_type": "markdown",
   "metadata": {},
   "source": [
    "# Setup"
   ]
  },
  {
   "cell_type": "markdown",
   "metadata": {},
   "source": [
    "Nuclear_Tools has pint unit integration so values input with units will output results with like units.\n",
    "\n",
    "To begin, simply input the module as seen below and pint can be input seperately to help keeps units consistent through analysis."
   ]
  },
  {
   "cell_type": "code",
   "execution_count": 1,
   "metadata": {},
   "outputs": [],
   "source": [
    "import Nuclear_Tools.Nuclear_Tools as nt\n",
    "import pint\n",
    "U = pint.UnitRegistry()"
   ]
  },
  {
   "cell_type": "markdown",
   "metadata": {},
   "source": [
    "# Binding Energy"
   ]
  },
  {
   "cell_type": "code",
   "execution_count": 2,
   "metadata": {},
   "outputs": [
    {
     "name": "stdout",
     "output_type": "stream",
     "text": [
      "7.390909556951814 megaelectron_volt\n"
     ]
    }
   ],
   "source": [
    "print(nt.BE_per_nucleon('U-235'))"
   ]
  },
  {
   "cell_type": "markdown",
   "metadata": {},
   "source": [
    "# Mass and Number Density"
   ]
  },
  {
   "cell_type": "code",
   "execution_count": 3,
   "metadata": {},
   "outputs": [
    {
     "name": "stdout",
     "output_type": "stream",
     "text": [
      "235.0439299\n",
      "270.03\n",
      "964.0\n",
      "6.073393162978724e+21 / centimeter ** 3\n"
     ]
    }
   ],
   "source": [
    "print(nt.atomic_mass(\"U-235\"))\n",
    "\n",
    "print(nt.molec_mass('UO2'))\n",
    "\n",
    "print(nt.molec_mass('Y3Al6BO3Si6O18OH4'))\n",
    "\n",
    "print(nt.num_density('U-235'))"
   ]
  },
  {
   "cell_type": "markdown",
   "metadata": {},
   "source": [
    "# Q-Value\n",
    "\n",
    "When finding the Q-value, reactants are input first in a list, followed by the list of products.  Neutrons are indicated by 'n', and protons are indicated by 'p'."
   ]
  },
  {
   "cell_type": "code",
   "execution_count": 4,
   "metadata": {},
   "outputs": [
    {
     "name": "stdout",
     "output_type": "stream",
     "text": [
      "173.2898030655273 megaelectron_volt\n"
     ]
    }
   ],
   "source": [
    "print(nt.Q_value(['n', 'U-235'], ['Kr-92', 'Ba-141', '3n']))"
   ]
  },
  {
   "cell_type": "markdown",
   "metadata": {},
   "source": [
    "# Elastic or Coherent Scattering Energy After Collision\n",
    "\n",
    "First give the atom that is collided with, then the angle in degrees of rebound, and finally the initial energy where we can make use of pint to keep track of units."
   ]
  },
  {
   "cell_type": "code",
   "execution_count": 5,
   "metadata": {},
   "outputs": [
    {
     "name": "stdout",
     "output_type": "stream",
     "text": [
      "4.993165810676886 megaelectron_volt\n"
     ]
    }
   ],
   "source": [
    "print(nt.coh_scatter_energy('Cs-137', 25, 5 * U.MeV))"
   ]
  },
  {
   "cell_type": "markdown",
   "metadata": {},
   "source": [
    "# Cross Section Data and Plotting"
   ]
  },
  {
   "cell_type": "markdown",
   "metadata": {},
   "source": [
    "This module can also pull in cross section data from https://www-nds.iaea.org/public/download-endf/.\n",
    "\n",
    "The VIII version of ENDF (most current) is the one of choice in this package.  Each time a request is sent for a specific set of cross sections, they are pulled from this online repo and a temporary file is created with the data to ease the memory usage of a program. \n",
    "\n",
    "To pull in cross section data, first create an object around the reaction of interest, for example the fission of U-235.\n",
    "\n",
    "The MF and MT parameters define what the cross section is versus and the type of reaction.  For example, MF=3 indicates cross section data versus energy and MT=18 indicates the (n,f) fission reaction.  For MT, input can be either a number or the reaction relating to that number such as '(n,f)' and for fission you can simply type MT = 'fission'. "
   ]
  },
  {
   "cell_type": "code",
   "execution_count": 8,
   "metadata": {},
   "outputs": [
    {
     "data": {
      "image/png": "[encoded data removed]",
      "text/plain": [
       "<matplotlib.figure.Figure at 0x211e4d8a940>"
      ]
     },
     "metadata": {},
     "output_type": "display_data"
    }
   ],
   "source": [
    "U235 = nt.cross_section('U-235', MF=3, MT='(n,f)')\n",
    "\n",
    "cross_sections = U235.cross_sections\n",
    "\n",
    "energies = U235.energies\n",
    "\n",
    "U235.plot()"
   ]
  },
  {
   "cell_type": "markdown",
   "metadata": {},
   "source": [
    "# Disclaimer"
   ]
  },
  {
   "cell_type": "markdown",
   "metadata": {},
   "source": [
    "For those unfamiliar with pint, the python units package, to obtain only the numerical value from any ouput simply add .magnitude to the end of any pint object.  For example ..."
   ]
  },
  {
   "cell_type": "code",
   "execution_count": 21,
   "metadata": {},
   "outputs": [
    {
     "name": "stdout",
     "output_type": "stream",
     "text": [
      "5 meter\n",
      "5\n",
      "meter\n"
     ]
    }
   ],
   "source": [
    "x = 5 * U.m\n",
    "print(x)\n",
    "\n",
    "xmag = x.magnitude\n",
    "print(xmag)\n",
    "\n",
    "xunits = x.units\n",
    "print(xunits)"
   ]
  },
  {
   "cell_type": "code",
   "execution_count": null,
   "metadata": {},
   "outputs": [],
   "source": []
  }
 ],
 "metadata": {
  "kernelspec": {
   "display_name": "Python 3",
   "language": "python",
   "name": "python3"
  },
  "language_info": {
   "codemirror_mode": {
    "name": "ipython",
    "version": 3
   },
   "file_extension": ".py",
   "mimetype": "text/x-python",
   "name": "python",
   "nbconvert_exporter": "python",
   "pygments_lexer": "ipython3",
   "version": "3.6.4"
  }
 },
 "nbformat": 4,
 "nbformat_minor": 2
}
