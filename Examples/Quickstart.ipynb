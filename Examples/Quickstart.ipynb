{
 "cells": [
  {
   "cell_type": "markdown",
   "metadata": {},
   "source": [
    "# Setup"
   ]
  },
  {
   "cell_type": "markdown",
   "metadata": {},
   "source": [
    "NuclearTools has pint unit integration so values input with units will output results with like units.\n",
    "\n",
    "To begin, simply input the module as seen below and pint can be input seperately to help keeps units consistent through analysis."
   ]
  },
  {
   "cell_type": "code",
   "execution_count": 1,
   "metadata": {},
   "outputs": [],
   "source": [
    "import NuclearTools.NuclearTools as nt\n",
    "import pint\n",
    "import numpy as np\n",
    "U = pint.UnitRegistry()"
   ]
  },
  {
   "cell_type": "markdown",
   "metadata": {},
   "source": [
    "# Binding Energy"
   ]
  },
  {
   "cell_type": "code",
   "execution_count": 2,
   "metadata": {},
   "outputs": [
    {
     "name": "stdout",
     "output_type": "stream",
     "text": [
      "7.390909556951814 megaelectron_volt\n"
     ]
    }
   ],
   "source": [
    "print(nt.BE_per_nucleon('U-235'))"
   ]
  },
  {
   "cell_type": "markdown",
   "metadata": {},
   "source": [
    "# Mass and Number Density"
   ]
  },
  {
   "cell_type": "code",
   "execution_count": 19,
   "metadata": {},
   "outputs": [
    {
     "name": "stdout",
     "output_type": "stream",
     "text": [
      "Atomic mass is     235.0439299\n",
      "Standard_mass is   238.02891\n",
      "Atomic number is   92\n",
      "Molecular mass is  270.02771\n",
      "Molecular mass is  963.9493416\n",
      "Number density is  2.5882392804255316e+22 / centimeter ** 3\n"
     ]
    }
   ],
   "source": [
    "print('Atomic mass is    ', nt.atomic_mass(\"U-235\"))\n",
    "\n",
    "print('Standard_mass is  ', nt.standard_mass('U'))\n",
    "\n",
    "print('Atomic number is  ', nt.atomic_number('U'))\n",
    "\n",
    "print('Molecular mass is ', nt.molec_mass('UO2'))\n",
    "\n",
    "print('Molecular mass is ', nt.molec_mass('Y3Al6BO3Si6O18OH4'))\n",
    "\n",
    "print('Number density is ', nt.num_density('U-235', density=10.1))"
   ]
  },
  {
   "cell_type": "markdown",
   "metadata": {},
   "source": [
    "# Q-Value\n",
    "\n",
    "When finding the Q-value, reactants are input first in a list, followed by the list of products.  Neutrons are indicated by 'n', and protons are indicated by 'p'."
   ]
  },
  {
   "cell_type": "code",
   "execution_count": 4,
   "metadata": {},
   "outputs": [
    {
     "name": "stdout",
     "output_type": "stream",
     "text": [
      "173.2898030655273 megaelectron_volt\n"
     ]
    }
   ],
   "source": [
    "print(nt.Q_value(['n', 'U-235'], ['Kr-92', 'Ba-141', '3n']))"
   ]
  },
  {
   "cell_type": "markdown",
   "metadata": {},
   "source": [
    "# Elastic or Coherent Scattering Energy After Collision\n",
    "\n",
    "First give the atom that is collided with, then the angle in degrees of rebound, and finally the initial energy where we can make use of pint to keep track of units."
   ]
  },
  {
   "cell_type": "code",
   "execution_count": 5,
   "metadata": {},
   "outputs": [
    {
     "name": "stdout",
     "output_type": "stream",
     "text": [
      "4.993165810676886 megaelectron_volt\n"
     ]
    }
   ],
   "source": [
    "print(nt.coh_scatter_energy('Cs-137', 25, 5 * U.MeV))"
   ]
  },
  {
   "cell_type": "markdown",
   "metadata": {},
   "source": [
    "# Cross Section Data and Plotting"
   ]
  },
  {
   "cell_type": "markdown",
   "metadata": {},
   "source": [
    "This module can also pull in cross section data from https://www-nds.iaea.org/public/download-endf/.\n",
    "\n",
    "The VIII version of ENDF (most current) is the one of choice in this package.  Each time a request is sent for a specific set of cross sections, they are pulled from this online repo and a temporary file is created with the data to ease the memory usage of a program. \n",
    "\n",
    "To pull in cross section data, first create an object around the reaction of interest, for example the (n,p) reaction of Fe-54.\n",
    "\n",
    "The MF and MT parameters define what the cross section is versus and the type of reaction.  For example, MF=3 indicates cross section data versus energy and MT=103 indicates the (n,p) reaction.  For MT, input can be either a number or the reaction relating to that number such as '(n,p)' and for common reactions such as fission you can simply type MT = 'fission' or MT='(n,fission)'. "
   ]
  },
  {
   "cell_type": "code",
   "execution_count": 20,
   "metadata": {},
   "outputs": [],
   "source": [
    "iron_object = nt.cross_section('Fe-54', MF=3, MT='(n,p)')\n",
    "\n",
    "cross_sections = iron_object.cross_sections\n",
    "\n",
    "energies = iron_object.indep_var"
   ]
  },
  {
   "cell_type": "markdown",
   "metadata": {},
   "source": [
    "Here we have created an iron object and no extra functions must be called to directly access the cross sections and the independent variables associated with each value.  Above is how the cross sections are accessed and how the independent variables are accessed as well, which is energy in our case since MF=3. \n",
    "\n",
    "We can also make a csv with two columns listing the independent variable data followed by the cross sections in the second column.  This file is saved to the current working directory. \n",
    "\n",
    "Another benefit is the ability to create a singular average by first defining an averaging function and then calling the single_average function.  Both of these abilities can be seen below."
   ]
  },
  {
   "cell_type": "code",
   "execution_count": 21,
   "metadata": {},
   "outputs": [
    {
     "name": "stdout",
     "output_type": "stream",
     "text": [
      "0.08157602172188134\n"
     ]
    }
   ],
   "source": [
    "iron_object.make_csv(filename=\"cross_data\")\n",
    "\n",
    "def averaging_function(energy):\n",
    "    return .454*np.exp(-energy/.965)*np.sinh(np.sqrt(2.29*energy))\n",
    "\n",
    "print(iron_object.single_average(func=averaging_function, func_units='MeV'))"
   ]
  },
  {
   "cell_type": "markdown",
   "metadata": {},
   "source": [
    "Lastly plotting is done by simply calling the plot function with no arguments."
   ]
  },
  {
   "cell_type": "code",
   "execution_count": 22,
   "metadata": {},
   "outputs": [
    {
     "data": {
      "image/png": "[encoded data removed]",
      "text/plain": [
       "<Figure size 720x432 with 1 Axes>"
      ]
     },
     "metadata": {},
     "output_type": "display_data"
    }
   ],
   "source": [
    "iron_object.plot()"
   ]
  },
  {
   "cell_type": "markdown",
   "metadata": {},
   "source": [
    "# Disclaimer"
   ]
  },
  {
   "cell_type": "markdown",
   "metadata": {},
   "source": [
    "For those unfamiliar with pint, the python units package, to obtain only the numerical value from any ouput simply add .magnitude to the end of any pint object.  For example ..."
   ]
  },
  {
   "cell_type": "code",
   "execution_count": 23,
   "metadata": {},
   "outputs": [
    {
     "name": "stdout",
     "output_type": "stream",
     "text": [
      "5 meter\n",
      "5\n",
      "meter\n"
     ]
    }
   ],
   "source": [
    "x = 5 * U.m\n",
    "print(x)\n",
    "\n",
    "print(x.magnitude)\n",
    "\n",
    "print(x.units)"
   ]
  },
  {
   "cell_type": "code",
   "execution_count": null,
   "metadata": {},
   "outputs": [],
   "source": []
  }
 ],
 "metadata": {
  "kernelspec": {
   "display_name": "Python 3",
   "language": "python",
   "name": "python3"
  },
  "language_info": {
   "codemirror_mode": {
    "name": "ipython",
    "version": 3
   },
   "file_extension": ".py",
   "mimetype": "text/x-python",
   "name": "python",
   "nbconvert_exporter": "python",
   "pygments_lexer": "ipython3",
   "version": "3.6.5"
  }
 },
 "nbformat": 4,
 "nbformat_minor": 2
}
