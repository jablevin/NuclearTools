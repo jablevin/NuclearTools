{
 "cells": [
  {
   "cell_type": "markdown",
   "metadata": {},
   "source": [
    "# Tools"
   ]
  },
  {
   "cell_type": "markdown",
   "metadata": {},
   "source": [
    "NuclearTools has pint unit integration so values input with units will output results with like units.\n",
    "\n",
    "To begin, simply input the module as seen below and pint can be input seperately to help keeps units consistent through analysis."
   ]
  },
  {
   "cell_type": "code",
   "execution_count": 1,
   "metadata": {},
   "outputs": [],
   "source": [
    "import NuclearTools.Tools as nt\n",
    "import pint\n",
    "import numpy as np\n",
    "import pandas as pd\n",
    "U = pint.UnitRegistry()"
   ]
  },
  {
   "cell_type": "markdown",
   "metadata": {},
   "source": [
    "# Binding Energy"
   ]
  },
  {
   "cell_type": "code",
   "execution_count": 2,
   "metadata": {},
   "outputs": [
    {
     "name": "stdout",
     "output_type": "stream",
     "text": [
      "7.390909556951814 megaelectron_volt\n"
     ]
    }
   ],
   "source": [
    "print(nt.BE_per_nucleon('U-235'))"
   ]
  },
  {
   "cell_type": "markdown",
   "metadata": {},
   "source": [
    "# Mass and Number Density"
   ]
  },
  {
   "cell_type": "code",
   "execution_count": 3,
   "metadata": {},
   "outputs": [
    {
     "name": "stdout",
     "output_type": "stream",
     "text": [
      "Atomic mass is     235.0439299\n",
      "Standard_mass is   238.02891\n",
      "Atomic number is   92\n",
      "Molecular mass is  270.02771\n",
      "Molecular mass is  963.9493416\n",
      "Number density is  2.5882392804255316e+22 / centimeter ** 3\n"
     ]
    }
   ],
   "source": [
    "print('Atomic mass is    ', nt.atomic_mass(\"U-235\"))\n",
    "\n",
    "print('Standard_mass is  ', nt.standard_mass('U'))\n",
    "\n",
    "print('Atomic number is  ', nt.atomic_number('U'))\n",
    "\n",
    "print('Molecular mass is ', nt.molec_mass('UO2'))\n",
    "\n",
    "print('Molecular mass is ', nt.molec_mass('Y3Al6BO3Si6O18OH4'))\n",
    "\n",
    "print('Number density is ', nt.num_density('U-235', density=10.1))"
   ]
  },
  {
   "cell_type": "markdown",
   "metadata": {},
   "source": [
    "# Q-Value\n",
    "\n",
    "When finding the Q-value, reactants are input first in a list, followed by the list of products.  Neutrons are indicated by 'n', and protons are indicated by 'p'."
   ]
  },
  {
   "cell_type": "code",
   "execution_count": 4,
   "metadata": {},
   "outputs": [
    {
     "name": "stdout",
     "output_type": "stream",
     "text": [
      "173.2898030655273 megaelectron_volt\n"
     ]
    }
   ],
   "source": [
    "print(nt.Q_value(['n', 'U-235'], ['Kr-92', 'Ba-141', '3n']))"
   ]
  },
  {
   "cell_type": "markdown",
   "metadata": {},
   "source": [
    "# Elastic or Coherent Scattering Energy After Collision\n",
    "\n",
    "First give the atom that is collided with, then the angle in degrees of rebound, and finally the initial energy where we can make use of pint to keep track of units."
   ]
  },
  {
   "cell_type": "code",
   "execution_count": 5,
   "metadata": {},
   "outputs": [
    {
     "name": "stdout",
     "output_type": "stream",
     "text": [
      "4.993165810676886 megaelectron_volt\n"
     ]
    }
   ],
   "source": [
    "print(nt.coh_scatter_energy('Cs-137', 25, 5 * U.MeV))"
   ]
  },
  {
   "cell_type": "markdown",
   "metadata": {},
   "source": [
    "# Cross Section Data and Plotting"
   ]
  },
  {
   "cell_type": "markdown",
   "metadata": {},
   "source": [
    "This module can also pull in cross section data from https://www-nds.iaea.org/public/download-endf/.\n",
    "\n",
    "The VIII version of ENDF (most current) is the one of choice in this package.  Each time a request is sent for a specific set of cross sections, they are pulled from this online repo and a temporary file is created with the data to ease the memory usage of a program. \n",
    "\n",
    "To pull in cross section data, first create an object around the reaction of interest, for example the (n,p) reaction of Fe-54.\n",
    "\n",
    "The MF and MT parameters define what the cross section is versus and the type of reaction.  For example, MF=3 indicates cross section data versus energy and MT=103 indicates the (n,p) reaction.  For MT, input can be either a number or the reaction relating to that number such as '(n,p)' and for common reactions such as fission you can simply type MT = 'fission' or MT='(n,fission)'. "
   ]
  },
  {
   "cell_type": "code",
   "execution_count": 6,
   "metadata": {},
   "outputs": [],
   "source": [
    "iron_object = nt.cross_section('Fe-54', MF=3, MT='(n,p)')\n",
    "\n",
    "cross_sections = iron_object.cross_sections\n",
    "\n",
    "energies = iron_object.indep_var"
   ]
  },
  {
   "cell_type": "markdown",
   "metadata": {},
   "source": [
    "Here we have created an iron object and no extra functions must be called to directly access the cross sections and the independent variables associated with each value.  Above is how the cross sections are accessed and how the independent variables are accessed as well, which is energy in our case since MF=3. \n",
    "\n",
    "We can also make a csv with two columns listing the independent variable data followed by the cross sections in the second column.  This file is saved to the current working directory. \n",
    "\n",
    "Another benefit is the ability to create a singular average by first defining an averaging function and then calling the single_average function.  Both of these abilities can be seen below."
   ]
  },
  {
   "cell_type": "code",
   "execution_count": 7,
   "metadata": {},
   "outputs": [
    {
     "name": "stdout",
     "output_type": "stream",
     "text": [
      "0.08157602172188134\n"
     ]
    }
   ],
   "source": [
    "iron_object.make_csv(filename=\"cross_data\")\n",
    "\n",
    "def averaging_function(energy):\n",
    "    return .454*np.exp(-energy/.965)*np.sinh(np.sqrt(2.29*energy))\n",
    "\n",
    "print(iron_object.single_average(func=averaging_function, func_units='MeV'))"
   ]
  },
  {
   "cell_type": "markdown",
   "metadata": {},
   "source": [
    "Lastly plotting is done by simply calling the plot function with no arguments."
   ]
  },
  {
   "cell_type": "code",
   "execution_count": 8,
   "metadata": {},
   "outputs": [
    {
     "data": {
      "image/png": "[encoded data removed]",
      "text/plain": [
       "<Figure size 720x432 with 1 Axes>"
      ]
     },
     "metadata": {
      "needs_background": "light"
     },
     "output_type": "display_data"
    }
   ],
   "source": [
    "iron_object.plot()"
   ]
  },
  {
   "cell_type": "markdown",
   "metadata": {},
   "source": [
    "# Disclaimer"
   ]
  },
  {
   "cell_type": "markdown",
   "metadata": {},
   "source": [
    "For those unfamiliar with pint, the python units package, to obtain only the numerical value from any ouput simply add .magnitude to the end of any pint object.  For example ..."
   ]
  },
  {
   "cell_type": "code",
   "execution_count": 9,
   "metadata": {},
   "outputs": [
    {
     "name": "stdout",
     "output_type": "stream",
     "text": [
      "5 meter\n",
      "5\n",
      "meter\n"
     ]
    }
   ],
   "source": [
    "x = 5 * U.m\n",
    "print(x)\n",
    "\n",
    "print(x.magnitude)\n",
    "\n",
    "print(x.units)"
   ]
  },
  {
   "cell_type": "markdown",
   "metadata": {},
   "source": [
    "# Void Fractions"
   ]
  },
  {
   "cell_type": "code",
   "execution_count": 10,
   "metadata": {},
   "outputs": [],
   "source": [
    "import NuclearTools.ThermalHydraulics as th\n",
    "import pint\n",
    "U = pint.UnitRegistry()"
   ]
  },
  {
   "cell_type": "markdown",
   "metadata": {},
   "source": [
    "Void fractions can also be determined in the reactor by using the void_fractions class as seen below.  The intervals of the input indicate the volume fraction cutoffs for bubbly, bubbly slug, etc.."
   ]
  },
  {
   "cell_type": "code",
   "execution_count": 11,
   "metadata": {},
   "outputs": [
    {
     "data": {
      "image/png": "[encoded data removed]",
      "text/plain": [
       "<Figure size 720x576 with 1 Axes>"
      ]
     },
     "metadata": {
      "needs_background": "light"
     },
     "output_type": "display_data"
    },
    {
     "data": {
      "image/png": "[encoded data removed]",
      "text/plain": [
       "<Figure size 720x576 with 1 Axes>"
      ]
     },
     "metadata": {
      "needs_background": "light"
     },
     "output_type": "display_data"
    }
   ],
   "source": [
    "obj = th.void_fractions(heat_flux=144032*U.Btu/U.hour/U.foot**2,\n",
    "             pressure=1040*U.psi,\n",
    "             mass_flux=1.21*10**6 * U.lb/U.hour/U.foot**2,\n",
    "             enthalpy=527.9*U.Btu/U.lb,\n",
    "             height=148*U.inch,\n",
    "             Fx=1.4,\n",
    "             pitch=.64*U.inch,\n",
    "             D_rod=.493*U.inch,\n",
    "             U=U,\n",
    "             intervals=(.1, .2, .65, .85, .9),\n",
    "             life='MOC')\n",
    "obj.plot_Hewitt_Roberts()\n",
    "obj.plot()"
   ]
  },
  {
   "cell_type": "markdown",
   "metadata": {},
   "source": [
    "# Thermal Hydraulics"
   ]
  },
  {
   "cell_type": "markdown",
   "metadata": {},
   "source": [
    "The thermal hydraulics package is a powerful class that can calculate many different values from core temperatures to DNBR and CHF values.  To begin, several different types of data can be input.  Here is an example set of data below.  The program automatically calculates densities, viscosities, specific heats, etc. "
   ]
  },
  {
   "cell_type": "code",
   "execution_count": 12,
   "metadata": {},
   "outputs": [],
   "source": [
    "obj = th.reactor_thermals(\n",
    "        power=3914*U.MW,\n",
    "        height=150*U.inch,\n",
    "        pitch=0.506*U.inch,\n",
    "        T_inf=(556+458.67)*U.degR,\n",
    "        Fq=2.34,\n",
    "        Fx=1.5,\n",
    "        D_clad=0.382*U.inch,\n",
    "        D_pellet=.3255*U.inch,\n",
    "        c_thick=0.025*U.inch,\n",
    "        k_c=9.6*U.Btu/(U.hour*U.feet*U.rankine),\n",
    "        n_rods=56876,\n",
    "        hg=1000*U.Btu/(U.hour*U.feet**2*U.rankine),\n",
    "        pressure=2250*U.psi,\n",
    "        G=2.65*10**6*U.lb/(U.hour*U.feet**2),\n",
    "        gamma=0.974,\n",
    "        U=U,\n",
    "        channel='hot',\n",
    "        method='thom',\n",
    "        life = 'MOC')"
   ]
  },
  {
   "cell_type": "code",
   "execution_count": 13,
   "metadata": {},
   "outputs": [
    {
     "data": {
      "image/png": "[encoded data removed]",
      "text/plain": [
       "<Figure size 720x432 with 1 Axes>"
      ]
     },
     "metadata": {
      "needs_background": "light"
     },
     "output_type": "display_data"
    }
   ],
   "source": [
    "obj.plot(coolant=True, clad=True, units=U.degF, method=['thom'])"
   ]
  },
  {
   "cell_type": "markdown",
   "metadata": {},
   "source": [
    "This plot is clearly not right for clad Temperature and this will usually come from a wrong guess in the mixed boiling region.  The automatic guess was too small so lets change our guess to a larger value (in degrees Rankine) and try again, this time with more methods of finding temperature in the mixed region.  The plotting for certain correlations can take significant amounts of time, especially for the chen correlation due to numerous transcendental solves per core height location."
   ]
  },
  {
   "cell_type": "code",
   "execution_count": 14,
   "metadata": {},
   "outputs": [
    {
     "data": {
      "image/png": "[encoded data removed]",
      "text/plain": [
       "<Figure size 720x432 with 1 Axes>"
      ]
     },
     "metadata": {
      "needs_background": "light"
     },
     "output_type": "display_data"
    }
   ],
   "source": [
    "obj.T_mixed_guess = 1200\n",
    "obj.plot(clad=True, units=U.degF, method=['thom', 'jens-lottes', 'superposition'])"
   ]
  },
  {
   "cell_type": "markdown",
   "metadata": {},
   "source": [
    "Below we can also find several imporant values of the reactor core."
   ]
  },
  {
   "cell_type": "code",
   "execution_count": 15,
   "metadata": {},
   "outputs": [
    {
     "name": "stdout",
     "output_type": "stream",
     "text": [
      "The saturation point of the clad is: 78.35049069357649 inch\n",
      "The incipient boiling point is: 80.60587110511418 inch\n",
      "The fully developed nucleate boiling point is: 138.87410641218506 inch\n",
      "The fluid sat. location is: 153.76114650391614 inch\n"
     ]
    }
   ],
   "source": [
    "print('The saturation point of the clad is:', obj.T_clad_sat_location())\n",
    "print('The incipient boiling point is:', obj.zn)\n",
    "print('The fully developed nucleate boiling point is:', obj.zb)\n",
    "print('The fluid sat. location is:', obj.T_coolant_sat_location())"
   ]
  },
  {
   "cell_type": "markdown",
   "metadata": {},
   "source": [
    "We can also find the max fuel and clad temperatures as well as their respective axial location.  This max temperature will be calculated from the most recently called method to find clad temperature such as 'thom' or 'jens-lottes'."
   ]
  },
  {
   "cell_type": "code",
   "execution_count": 16,
   "metadata": {},
   "outputs": [
    {
     "name": "stdout",
     "output_type": "stream",
     "text": [
      "The max clad temperature is  656.895759567445 degF  at  115 inch\n",
      "The max fuel temperature is  3516.1639478378183 degF  at  76 inch\n"
     ]
    }
   ],
   "source": [
    "print('The max clad temperature is ',(obj.max_T_clad()[0]).to(U.degF), \n",
    "      ' at ',obj.max_T_clad()[1])\n",
    "print('The max fuel temperature is ',(obj.max_T_fuel()[0]).to(U.degF), \n",
    "      ' at ',obj.max_T_fuel()[1])"
   ]
  },
  {
   "cell_type": "code",
   "execution_count": 17,
   "metadata": {},
   "outputs": [
    {
     "name": "stdout",
     "output_type": "stream",
     "text": [
      "The minimum DNB ratio is: 2.6123610920129607 at 104.0 inch\n"
     ]
    }
   ],
   "source": [
    "print('The minimum DNB ratio is:', obj.MDNBR()[0], 'at', obj.MDNBR()[1])"
   ]
  },
  {
   "cell_type": "markdown",
   "metadata": {},
   "source": [
    "One useful way to quickly view all parameters, calculated and input for this 'reactor system' is to copy and execute the below code.  No need to change anything except for the object name which is 'obj' here."
   ]
  },
  {
   "cell_type": "code",
   "execution_count": 18,
   "metadata": {},
   "outputs": [
    {
     "name": "stdout",
     "output_type": "stream",
     "text": [
      "                                                               0\n",
      "Ax                                 0.14142755840439075 inch ** 2\n",
      "CPR                                                         None\n",
      "D_clad                                                0.382 inch\n",
      "D_pellet                                             0.3255 inch\n",
      "De                                      0.47139047140264956 inch\n",
      "Fq                                                          2.34\n",
      "Fx                                                           1.5\n",
      "G                             2650000.0 pound / foot ** 2 / hour\n",
      "T_inf                                    1014.6700000000001 degR\n",
      "T_mixed_guess                                               1200\n",
      "T_sat                                    1112.4182789554984 degR\n",
      "U              <pint.registry.UnitRegistry object at 0x000001...\n",
      "c_thick                                               0.025 inch\n",
      "cp                         1.4343283809769076 btu / degR / pound\n",
      "cp_f                        2.144031555092007 btu / degR / pound\n",
      "gamma                                                      0.974\n",
      "gc                 32.2 foot * pound / force_pound / second ** 2\n",
      "gravity                                 9.81 meter / second ** 2\n",
      "h0                       1434.4010551470599 kilojoule / kilogram\n",
      "h0_guess                                                      20\n",
      "h2_flux        1126.3473898823495 btu / degR ** 1.99 / foot *...\n",
      "h_0                                      106.22494186441114 inch\n",
      "h_f                                700.9337394537475 btu / pound\n",
      "h_fg                               415.0678959301846 btu / pound\n",
      "h_g                               1116.0016353839321 btu / pound\n",
      "h_in                               553.3424167977889 btu / pound\n",
      "hc                9134.59992326014 btu / degR / foot ** 2 / hour\n",
      "height                                                  150 inch\n",
      "hg                          1000.0 btu / degR / foot ** 2 / hour\n",
      "k_c                                 9.6 btu / degR / foot / hour\n",
      "k_f                 0.27257541298886306 btu / degR / foot / hour\n",
      "k_water                 0.5349054612566371 watt / kelvin / meter\n",
      "lambda_                                  3.7613158314599455 inch\n",
      "life                                                         MOC\n",
      "m                                                              2\n",
      "method                                             superposition\n",
      "mu                         8.172179985362695e-05 pascal * second\n",
      "mu_f                     0.16498587287110325 pound / foot / hour\n",
      "mu_g                    0.055731006802468924 pound / foot / hour\n",
      "n_rods                                                     56876\n",
      "p_crit                          3206 pound_force_per_square_inch\n",
      "pitch                                                 0.506 inch\n",
      "power                                              3914 megawatt\n",
      "prandt                                                   0.91747\n",
      "pressure                        2250 pound_force_per_square_inch\n",
      "q_dprime                  2977343.3556582574 pound / second ** 3\n",
      "                                                 0\n",
      "reynolds                                    526570\n",
      "rho_f          37.08925823752941 pound / foot ** 3\n",
      "rho_g          6.371801783644704 pound / foot ** 3\n",
      "shape                                            1\n",
      "sigma     0.0003190102935022137 force_pound / foot\n",
      "v_fg         0.03255477879495893 foot ** 3 / pound\n",
      "x_c1                                     0.0610001\n",
      "x_c2                                      0.265597\n",
      "zb                         138.87410641218506 inch\n",
      "zb_guess                                   116.606\n",
      "zn                          80.60587110511418 inch\n"
     ]
    }
   ],
   "source": [
    "table = {}\n",
    "for inst in obj.__dict__.keys():\n",
    "    table[inst] = obj.__dict__[inst]\n",
    "df = pd.DataFrame(data=[table])\n",
    "df.reindex(sorted(df.columns), axis=1)\n",
    "print(df.transpose()[0:46])\n",
    "print(df.transpose()[46:])"
   ]
  },
  {
   "cell_type": "markdown",
   "metadata": {},
   "source": [
    "# Critical Heat Flux"
   ]
  },
  {
   "cell_type": "markdown",
   "metadata": {},
   "source": [
    "One of the more important abilities of this code is its ability to find CHF values.  An example reactor input is given below (notice the change of input parameters from above).  We can also work backwards with this code and given a maximum CPR value, find the power of the reactor."
   ]
  },
  {
   "cell_type": "code",
   "execution_count": 19,
   "metadata": {},
   "outputs": [],
   "source": [
    "obj = th.reactor_thermals(\n",
    "        height=148*U.inch,\n",
    "        pitch=0.640*U.inch,\n",
    "        T_inf=(532+458.67)*U.degR,\n",
    "        Fq=2.22,\n",
    "        Fx=1.4,\n",
    "        D_clad=0.493*U.inch,\n",
    "        n_rods=45384,\n",
    "        pressure=1040*U.psi,\n",
    "        G=1.21*10**6*U.lb/(U.hour*U.feet**2),\n",
    "        gamma=0.943,\n",
    "        U=U,\n",
    "        channel='hot',\n",
    "        method='thom',\n",
    "        life = 'Bottom',\n",
    "        CPR = 1.2)"
   ]
  },
  {
   "cell_type": "code",
   "execution_count": 20,
   "metadata": {},
   "outputs": [
    {
     "name": "stdout",
     "output_type": "stream",
     "text": [
      "The H0 value is: 11.353748292363962 inch\n",
      "The critical q is: 230743.88245629397 btu / foot ** 2 / hour\n",
      "The max power is: 3538.809494336955 megawatt\n"
     ]
    }
   ],
   "source": [
    "print('The H0 value is:', obj.find_h0())\n",
    "print('The critical q is:', obj.q_crit())\n",
    "print('The max power is:', obj.max_Q().to(U.MW))"
   ]
  },
  {
   "cell_type": "code",
   "execution_count": 21,
   "metadata": {},
   "outputs": [
    {
     "name": "stdout",
     "output_type": "stream",
     "text": [
      "The exit critical quality is: 0.3924066888948108\n",
      "The exit quality is: 0.32093113995311573\n",
      "The void fraction of the real channel is: 0.8221169998246636 dimensionless\n",
      "The void fraction of the critical channel is: 0.8530856538027443 dimensionless\n"
     ]
    }
   ],
   "source": [
    "print('The exit critical quality is:', obj.crit_quality(148))\n",
    "print('The exit quality is:', obj.abs_quality(148))\n",
    "print('The void fraction of the real channel is:', obj.alpha_dix(148, type='real'))\n",
    "print('The void fraction of the critical channel is:', obj.alpha_dix(148, type='critical'))"
   ]
  },
  {
   "cell_type": "code",
   "execution_count": 22,
   "metadata": {},
   "outputs": [
    {
     "name": "stdout",
     "output_type": "stream",
     "text": [
      "The minimum CHF ratio is: 1.5487737775234505 at 102 inch\n"
     ]
    }
   ],
   "source": [
    "print('The minimum CHF ratio is:', obj.MCHF()[0], 'at', obj.MCHF()[1])"
   ]
  },
  {
   "cell_type": "markdown",
   "metadata": {},
   "source": [
    "The next steps of development will include coolant flow problems that involve needed pump powers, the flow rate given certain flow obstructions and core design, etc.\n",
    "\n",
    "To see all functionality of the code, do not forget about the help() command.\n",
    "\n",
    "Ex: help(th)"
   ]
  },
  {
   "cell_type": "markdown",
   "metadata": {},
   "source": [
    "# Core Pressures and Mass Flux"
   ]
  },
  {
   "cell_type": "markdown",
   "metadata": {},
   "source": [
    "We can additionally find higher level pressure drops across the system.  We will start with a specific steam generator with inputs given below."
   ]
  },
  {
   "cell_type": "code",
   "execution_count": 23,
   "metadata": {},
   "outputs": [],
   "source": [
    "import NuclearTools.MassFlux as mf\n",
    "obj = mf.steam_generator(\n",
    "    m = 36*10**6 * U.lb/U.hr,\n",
    "    T_hl = (620 + 459.67) * U.degR,\n",
    "    T_cl = (560 + 459.67) * U.degR,\n",
    "    A_ht = 79800 * U.foot**2,\n",
    "    n_tubes = 6633,\n",
    "    D = .6875 * U.inch,\n",
    "    wall_th = .04 * U.inch,\n",
    "    L = 30.64 * U.foot,\n",
    "    radius_max = 53.25 * U.inch,\n",
    "    radius_min = 2.25 * U.inch,\n",
    "    plate_th = 21.2 * U.inch,\n",
    "    inlet_k = 1.5,\n",
    "    exit_k = 1.0,\n",
    "    eq_long = 55,\n",
    "    eq_short = 90,\n",
    "    U = U)"
   ]
  },
  {
   "cell_type": "code",
   "execution_count": 24,
   "metadata": {},
   "outputs": [
    {
     "name": "stdout",
     "output_type": "stream",
     "text": [
      "The total pressure loss is: 30.788242433526023 pound_force_per_square_inch\n",
      "\n",
      "The friction pressure loss is: 24.632394868638567 pound_force_per_square_inch\n",
      "The exit pressure loss is: 2.0459598885959243 pound_force_per_square_inch\n",
      "The entrance pressure loss is: 4.109887676291534 pound_force_per_square_inch\n"
     ]
    }
   ],
   "source": [
    "print('The total pressure loss is:', obj.total_dp)\n",
    "print('')\n",
    "print('The friction pressure loss is:', obj.dP_loss.to(U.psi))\n",
    "print('The exit pressure loss is:', obj.dP_exit.to(U.psi))\n",
    "print('The entrance pressure loss is:', obj.dP_plate.to(U.psi))"
   ]
  },
  {
   "cell_type": "markdown",
   "metadata": {},
   "source": [
    "Above we have all the pressure drops across the system.  Since this is a U-Tube SG, we can also see the difference in the short-leg and long-leg calculations. "
   ]
  },
  {
   "cell_type": "code",
   "execution_count": 25,
   "metadata": {},
   "outputs": [
    {
     "name": "stdout",
     "output_type": "stream",
     "text": [
      "The average length velocity is: 17.02281545360703 foot / second\n",
      "The long-leg length velocity is: 17.14011441419696 foot / second\n",
      "The short-leg length velocity is: 16.90789221304102 foot / second\n"
     ]
    }
   ],
   "source": [
    "print('The average length velocity is:', obj.v_avg.to(U.foot/U.s))\n",
    "print('The long-leg length velocity is:', obj.v_long.to(U.foot/U.s))\n",
    "print('The short-leg length velocity is:', obj.v_short.to(U.foot/U.s))"
   ]
  },
  {
   "cell_type": "markdown",
   "metadata": {},
   "source": [
    "Now we will switch over to the full core calculations"
   ]
  },
  {
   "cell_type": "code",
   "execution_count": 26,
   "metadata": {},
   "outputs": [],
   "source": [
    "obj2 = mf.core_pressure(\n",
    "    pitch = .496 * U.inch,\n",
    "    D_clad = .374 * U.inch,\n",
    "    n_rods = 55777,\n",
    "    height = 144 * U.inch,\n",
    "    pressure = 2250 * U.psi,\n",
    "    n_grids = 8,\n",
    "    k_grid = 0.5,\n",
    "    core_height = 150 * U.inch,\n",
    "    k_core_in = 1.5,\n",
    "    k_core_out = 1.5,\n",
    "    v_ID = 173 * U.inch,\n",
    "    b_OD = 157.6 * U.inch,\n",
    "    L_d = 21 * U.foot,\n",
    "    k_d = 4.5,\n",
    "    L_hl = 20 * U.foot,\n",
    "    D_hl = 2.42 * U.foot,\n",
    "    HL_LD = 10,\n",
    "    k_hl_in = 1.5,\n",
    "    k_hl_out = 1.0,\n",
    "    k_sg_in = 1.5,\n",
    "    k_sg_out = 1.0,\n",
    "    SG_LD = 90,\n",
    "    D_sg = .6875 * U.inch,\n",
    "    SG_th = .04 * U.inch,\n",
    "    n_tubes = 6633,\n",
    "    A_total = 79800 * U.foot**2,\n",
    "    L_cl = 40 * U.foot,\n",
    "    D_cl = 2.29 * U.foot,\n",
    "    k_cl_in = 1.5,\n",
    "    k_cl_out = 1.0,\n",
    "    CL_LD = 50,\n",
    "    T_in = (560+459.67) * U.degR,\n",
    "    T_out = (620+459.67) * U.degR,\n",
    "    m = 144*10**6 * U.lb/U.hour,\n",
    "    U = U,\n",
    "    loops = 4)"
   ]
  },
  {
   "cell_type": "code",
   "execution_count": 27,
   "metadata": {},
   "outputs": [
    {
     "name": "stdout",
     "output_type": "stream",
     "text": [
      "The pressure change in the core: 20.409522168419116 pound_force_per_square_inch\n",
      "The pressure change in the downcomer: 17.512949624355336 pound_force_per_square_inch\n",
      "The pressure change in the hot leg: 31.30989607441203 pound_force_per_square_inch\n",
      "The pressure change in the steam generator: 30.5177779653617 pound_force_per_square_inch\n",
      "The pressure change in the cold leg: 46.966965200287845 pound_force_per_square_inch\n"
     ]
    }
   ],
   "source": [
    "print('The pressure change in the core:', obj2.P_core(obj2.m).to(U.psi))\n",
    "print('The pressure change in the downcomer:', obj2.P_downcomer(obj2.m).to(U.psi))\n",
    "print('The pressure change in the hot leg:', obj2.P_hot_leg(obj2.m).to(U.psi))\n",
    "print('The pressure change in the steam generator:', obj2.P_sg(obj2.m).to(U.psi))\n",
    "print('The pressure change in the cold leg:', obj2.P_cold_leg(obj2.m).to(U.psi))"
   ]
  },
  {
   "cell_type": "code",
   "execution_count": 28,
   "metadata": {},
   "outputs": [
    {
     "name": "stdout",
     "output_type": "stream",
     "text": [
      "The total pressure drop is: 149.31634426124694 pound_force_per_square_inch\n",
      "The needed pump horsepower is: 11846.968391401917 horsepower\n"
     ]
    }
   ],
   "source": [
    "print('The total pressure drop is:', obj2.P_total.to(U.psi))\n",
    "print('The needed pump horsepower is:', obj2.work.to(U.hp))"
   ]
  },
  {
   "cell_type": "code",
   "execution_count": null,
   "metadata": {},
   "outputs": [],
   "source": []
  }
 ],
 "metadata": {
  "kernelspec": {
   "display_name": "Python 3",
   "language": "python",
   "name": "python3"
  },
  "language_info": {
   "codemirror_mode": {
    "name": "ipython",
    "version": 3
   },
   "file_extension": ".py",
   "mimetype": "text/x-python",
   "name": "python",
   "nbconvert_exporter": "python",
   "pygments_lexer": "ipython3",
   "version": "3.7.3"
  }
 },
 "nbformat": 4,
 "nbformat_minor": 2
}
