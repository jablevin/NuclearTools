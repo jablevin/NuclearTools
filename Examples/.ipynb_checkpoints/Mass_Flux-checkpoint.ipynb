{
 "cells": [
  {
   "cell_type": "markdown",
   "metadata": {},
   "source": [
    "# Core Pressures and Mass Flux\n",
    "\n",
    "We can additionally find higher level pressure drops across the system.  We will start with a specific steam generator with inputs given below."
   ]
  },
  {
   "cell_type": "code",
   "execution_count": 1,
   "metadata": {},
   "outputs": [],
   "source": [
    "import NuclearTools.MassFlux as mf\n",
    "import pint\n",
    "U = pint.UnitRegistry()\n",
    "\n",
    "obj = mf.steam_generator(\n",
    "    m = 36*10**6 * U.lb/U.hr,\n",
    "    T_hl = (620 + 459.67) * U.degR,\n",
    "    T_cl = (560 + 459.67) * U.degR,\n",
    "    A_ht = 79800 * U.foot**2,\n",
    "    n_tubes = 6633,\n",
    "    D = .6875 * U.inch,\n",
    "    wall_th = .04 * U.inch,\n",
    "    L = 30.64 * U.foot,\n",
    "    radius_max = 53.25 * U.inch,\n",
    "    radius_min = 2.25 * U.inch,\n",
    "    plate_th = 21.2 * U.inch,\n",
    "    inlet_k = 1.5,\n",
    "    exit_k = 1.0,\n",
    "    eq_long = 55,\n",
    "    eq_short = 90,\n",
    "    U = U)"
   ]
  },
  {
   "cell_type": "code",
   "execution_count": 2,
   "metadata": {},
   "outputs": [
    {
     "name": "stdout",
     "output_type": "stream",
     "text": [
      "The total pressure loss is: 30.788242433526023 pound_force_per_square_inch\n",
      "\n",
      "The friction pressure loss is: 24.632394868638567 pound_force_per_square_inch\n",
      "The exit pressure loss is: 2.0459598885959243 pound_force_per_square_inch\n",
      "The entrance pressure loss is: 4.109887676291534 pound_force_per_square_inch\n"
     ]
    }
   ],
   "source": [
    "print('The total pressure loss is:', obj.total_dp)\n",
    "print('')\n",
    "print('The friction pressure loss is:', obj.dP_loss.to(U.psi))\n",
    "print('The exit pressure loss is:', obj.dP_exit.to(U.psi))\n",
    "print('The entrance pressure loss is:', obj.dP_plate.to(U.psi))"
   ]
  },
  {
   "cell_type": "markdown",
   "metadata": {},
   "source": [
    "Above we have all the pressure drops across the system.  Since this is a U-Tube SG, we can also see the difference in the short-leg and long-leg calculations."
   ]
  },
  {
   "cell_type": "code",
   "execution_count": 3,
   "metadata": {},
   "outputs": [
    {
     "name": "stdout",
     "output_type": "stream",
     "text": [
      "The average length velocity is: 17.02281545360703 foot / second\n",
      "The long-leg length velocity is: 17.14011441419696 foot / second\n",
      "The short-leg length velocity is: 16.90789221304102 foot / second\n"
     ]
    }
   ],
   "source": [
    "print('The average length velocity is:', obj.v_avg.to(U.foot/U.s))\n",
    "print('The long-leg length velocity is:', obj.v_long.to(U.foot/U.s))\n",
    "print('The short-leg length velocity is:', obj.v_short.to(U.foot/U.s))"
   ]
  },
  {
   "cell_type": "markdown",
   "metadata": {},
   "source": [
    "Now we will switch over to the full core calculations"
   ]
  },
  {
   "cell_type": "code",
   "execution_count": 4,
   "metadata": {},
   "outputs": [],
   "source": [
    "obj2 = mf.core_pressure(\n",
    "    pitch = .496 * U.inch,\n",
    "    D_clad = .374 * U.inch,\n",
    "    n_rods = 55777,\n",
    "    height = 144 * U.inch,\n",
    "    pressure = 2250 * U.psi,\n",
    "    n_grids = 8,\n",
    "    k_grid = 0.5,\n",
    "    core_height = 150 * U.inch,\n",
    "    k_core_in = 1.5,\n",
    "    k_core_out = 1.5,\n",
    "    v_ID = 173 * U.inch,\n",
    "    b_OD = 157.6 * U.inch,\n",
    "    L_d = 21 * U.foot,\n",
    "    k_d = 4.5,\n",
    "    L_hl = 20 * U.foot,\n",
    "    D_hl = 2.42 * U.foot,\n",
    "    HL_LD = 10,\n",
    "    k_hl_in = 1.5,\n",
    "    k_hl_out = 1.0,\n",
    "    k_sg_in = 1.5,\n",
    "    k_sg_out = 1.0,\n",
    "    SG_LD = 90,\n",
    "    D_sg = .6875 * U.inch,\n",
    "    SG_th = .04 * U.inch,\n",
    "    n_tubes = 6633,\n",
    "    A_total = 79800 * U.foot**2,\n",
    "    L_cl = 40 * U.foot,\n",
    "    D_cl = 2.29 * U.foot,\n",
    "    k_cl_in = 1.5,\n",
    "    k_cl_out = 1.0,\n",
    "    CL_LD = 50,\n",
    "    T_in = (560+459.67) * U.degR,\n",
    "    T_out = (620+459.67) * U.degR,\n",
    "    m = 144*10**6 * U.lb/U.hour,\n",
    "    U = U,\n",
    "    loops = 4)"
   ]
  },
  {
   "cell_type": "code",
   "execution_count": 5,
   "metadata": {},
   "outputs": [
    {
     "name": "stdout",
     "output_type": "stream",
     "text": [
      "The pressure change in the core: 20.409522168419116 pound_force_per_square_inch\n",
      "The pressure change in the downcomer: 17.512949624355336 pound_force_per_square_inch\n",
      "The pressure change in the hot leg: 31.30989607441203 pound_force_per_square_inch\n",
      "The pressure change in the steam generator: 30.5177779653617 pound_force_per_square_inch\n",
      "The pressure change in the cold leg: 46.966965200287845 pound_force_per_square_inch\n"
     ]
    }
   ],
   "source": [
    "print('The pressure change in the core:', obj2.P_core(obj2.m).to(U.psi))\n",
    "print('The pressure change in the downcomer:', obj2.P_downcomer(obj2.m).to(U.psi))\n",
    "print('The pressure change in the hot leg:', obj2.P_hot_leg(obj2.m).to(U.psi))\n",
    "print('The pressure change in the steam generator:', obj2.P_sg(obj2.m).to(U.psi))\n",
    "print('The pressure change in the cold leg:', obj2.P_cold_leg(obj2.m).to(U.psi))"
   ]
  },
  {
   "cell_type": "code",
   "execution_count": 6,
   "metadata": {},
   "outputs": [
    {
     "name": "stdout",
     "output_type": "stream",
     "text": [
      "The total pressure drop is: 149.31634426124694 pound_force_per_square_inch\n",
      "The needed pump horsepower is: 11846.968391401917 horsepower\n"
     ]
    }
   ],
   "source": [
    "print('The total pressure drop is:', obj2.P_total.to(U.psi))\n",
    "print('The needed pump horsepower is:', obj2.work.to(U.hp))"
   ]
  }
 ],
 "metadata": {
  "kernelspec": {
   "display_name": "Python 3",
   "language": "python",
   "name": "python3"
  },
  "language_info": {
   "codemirror_mode": {
    "name": "ipython",
    "version": 3
   },
   "file_extension": ".py",
   "mimetype": "text/x-python",
   "name": "python",
   "nbconvert_exporter": "python",
   "pygments_lexer": "ipython3",
   "version": "3.7.3"
  }
 },
 "nbformat": 4,
 "nbformat_minor": 2
}
